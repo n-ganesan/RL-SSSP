{
 "cells": [
  {
   "cell_type": "code",
   "execution_count": 1,
   "metadata": {},
   "outputs": [],
   "source": [
    "import numpy as np\n",
    "import random\n",
    "import tensorflow as tf\n",
    "import matplotlib.pyplot as plt\n",
    "from matplotlib.collections import LineCollection\n",
    "%matplotlib inline\n",
    "%matplotlib notebook\n",
    "import networkx as nx"
   ]
  },
  {
   "cell_type": "markdown",
   "metadata": {},
   "source": [
    "# Try Reinforcement Learning on Djikstra's Algorithm"
   ]
  },
  {
   "cell_type": "code",
   "execution_count": 2,
   "metadata": {},
   "outputs": [],
   "source": [
    "class myNode:\n",
    "    def __init__(self,nodeid):\n",
    "        self.adj_list=[]\n",
    "        self.edj_list=[]\n",
    "        self.nodeid=nodeid\n",
    "    def __str__(self):\n",
    "        return (str(self.nodeid)+':'+str(self.adj_list)+str(self.edj_list))\n",
    "            "
   ]
  },
  {
   "cell_type": "code",
   "execution_count": 3,
   "metadata": {},
   "outputs": [
    {
     "name": "stdout",
     "output_type": "stream",
     "text": [
      "9\n"
     ]
    }
   ],
   "source": [
    "num_nodes=10\n",
    "print(int(random.random()*num_nodes))"
   ]
  },
  {
   "cell_type": "code",
   "execution_count": 4,
   "metadata": {},
   "outputs": [
    {
     "data": {
      "text/plain": [
       "array([1.05866136, 7.46857244, 0.93821767, 9.09106989, 2.68033023])"
      ]
     },
     "execution_count": 4,
     "metadata": {},
     "output_type": "execute_result"
    }
   ],
   "source": [
    "np.random.rand(5)*10"
   ]
  },
  {
   "cell_type": "markdown",
   "metadata": {},
   "source": [
    "# Construct Random Graph"
   ]
  },
  {
   "cell_type": "code",
   "execution_count": 30,
   "metadata": {},
   "outputs": [],
   "source": [
    "mynodes=[]\n",
    "num_nodes=10\n",
    "for i in range(num_nodes):\n",
    "    nodeid=i\n",
    "    mynodes.append(myNode(nodeid))\n",
    "    adj_list = random.sample(range(num_nodes), int(random.random()*num_nodes/2))\n",
    "    if nodeid in adj_list:\n",
    "        adj_list.remove(nodeid)\n",
    "    edj_list = [int(1+np.random.rand()*num_nodes/2) for i in range(len(adj_list))]\n",
    "    mynodes[-1].adj_list = adj_list\n",
    "    mynodes[-1].edj_list = edj_list"
   ]
  },
  {
   "cell_type": "code",
   "execution_count": 37,
   "metadata": {},
   "outputs": [
    {
     "name": "stdout",
     "output_type": "stream",
     "text": [
      "0:[1, 2, 7, 9][1, 3, 3, 20]\n",
      "1:[5][3]\n",
      "2:[0, 7, 1][2, 3, 2]\n",
      "3:[][]\n",
      "4:[6, 1, 2][5, 4, 4]\n",
      "5:[9][5]\n",
      "6:[1, 7][2, 5]\n",
      "7:[4, 2, 1][4, 3, 1]\n",
      "8:[9, 4][2, 3]\n",
      "9:[5, 8, 2, 1][2, 3, 2, 3]\n"
     ]
    }
   ],
   "source": [
    "for node in mynodes:\n",
    "    print(node)"
   ]
  },
  {
   "cell_type": "code",
   "execution_count": 36,
   "metadata": {},
   "outputs": [],
   "source": [
    "mynodes[0].edj_list.append(20)"
   ]
  },
  {
   "cell_type": "markdown",
   "metadata": {},
   "source": [
    "# Single Source Shortest Path - Dijkstra's Algorithm"
   ]
  },
  {
   "cell_type": "code",
   "execution_count": 74,
   "metadata": {},
   "outputs": [],
   "source": [
    "def sssp(start_node, end_node):\n",
    "    global mynodes\n",
    "    costs = np.ones(len(mynodes))*1000000\n",
    "    costs[start_node.nodeid]=0\n",
    "    visited = np.zeros(len(mynodes),dtype=bool)\n",
    "    currnode=start_node\n",
    "    nodeslist = [currnode]\n",
    "    idx=0\n",
    "    while (len(nodeslist)>0):\n",
    "        idx+=1\n",
    "        currnode=nodeslist.pop()\n",
    "        print('popped ', currnode)\n",
    "        for node,edj in zip(currnode.adj_list, currnode.edj_list):\n",
    "            prevcost = costs[mynodes[node].nodeid]\n",
    "            costs[mynodes[node].nodeid] = min(prevcost, edj+costs[currnode.nodeid])\n",
    "            if (costs[mynodes[node].nodeid]<prevcost) or (visited[mynodes[node].nodeid]==False):\n",
    "                nodeslist.append(mynodes[node])\n",
    "                visited[mynodes[node].nodeid]=True\n",
    "                print([node.nodeid for node in nodeslist], idx)\n",
    "        #if idx>20: break\n",
    "    return costs\n",
    "        \n",
    "        "
   ]
  },
  {
   "cell_type": "code",
   "execution_count": 75,
   "metadata": {},
   "outputs": [
    {
     "name": "stdout",
     "output_type": "stream",
     "text": [
      "popped  0:[1, 2, 7, 9][1, 3, 3, 20]\n",
      "[1] 1\n",
      "[1, 2] 1\n",
      "[1, 2, 7] 1\n",
      "[1, 2, 7, 9] 1\n",
      "popped  9:[5, 8, 2, 1][2, 3, 2, 3]\n",
      "[1, 2, 7, 5] 2\n",
      "[1, 2, 7, 5, 8] 2\n",
      "popped  8:[9, 4][2, 3]\n",
      "[1, 2, 7, 5, 4] 3\n",
      "popped  4:[6, 1, 2][5, 4, 4]\n",
      "[1, 2, 7, 5, 6] 4\n",
      "popped  6:[1, 7][2, 5]\n",
      "popped  5:[9][5]\n",
      "popped  7:[4, 2, 1][4, 3, 1]\n",
      "[1, 2, 4] 7\n",
      "popped  4:[6, 1, 2][5, 4, 4]\n",
      "[1, 2, 6] 8\n",
      "popped  6:[1, 7][2, 5]\n",
      "popped  2:[0, 7, 1][2, 3, 2]\n",
      "[1, 0] 10\n",
      "popped  0:[1, 2, 7, 9][1, 3, 3, 20]\n",
      "popped  1:[5][3]\n",
      "[5] 12\n",
      "popped  5:[9][5]\n",
      "[9] 13\n",
      "popped  9:[5, 8, 2, 1][2, 3, 2, 3]\n",
      "[8] 14\n",
      "popped  8:[9, 4][2, 3]\n"
     ]
    },
    {
     "data": {
      "text/plain": [
       "array([0.0e+00, 1.0e+00, 3.0e+00, 1.0e+06, 7.0e+00, 4.0e+00, 1.2e+01,\n",
       "       3.0e+00, 1.2e+01, 9.0e+00])"
      ]
     },
     "execution_count": 75,
     "metadata": {},
     "output_type": "execute_result"
    }
   ],
   "source": [
    "sssp(mynodes[0],mynodes[9])"
   ]
  },
  {
   "cell_type": "markdown",
   "metadata": {},
   "source": [
    "# Graph Viz.."
   ]
  },
  {
   "cell_type": "code",
   "execution_count": 39,
   "metadata": {},
   "outputs": [
    {
     "data": {
      "text/plain": [
       "<matplotlib.colors.LinearSegmentedColormap at 0x7fd26a0f0400>"
      ]
     },
     "execution_count": 39,
     "metadata": {},
     "output_type": "execute_result"
    }
   ],
   "source": [
    "plt.cm.spectral"
   ]
  },
  {
   "cell_type": "code",
   "execution_count": 40,
   "metadata": {},
   "outputs": [
    {
     "ename": "NameError",
     "evalue": "name 'embedding_with_nodes' is not defined",
     "output_type": "error",
     "traceback": [
      "\u001b[0;31m---------------------------------------------------------------------------\u001b[0m",
      "\u001b[0;31mNameError\u001b[0m                                 Traceback (most recent call last)",
      "\u001b[0;32m<ipython-input-40-69e977a2b31c>\u001b[0m in \u001b[0;36m<module>\u001b[0;34m()\u001b[0m\n\u001b[0;32m----> 1\u001b[0;31m \u001b[0membedding\u001b[0m \u001b[0;34m=\u001b[0m \u001b[0mnp\u001b[0m\u001b[0;34m.\u001b[0m\u001b[0marray\u001b[0m\u001b[0;34m(\u001b[0m\u001b[0;34m[\u001b[0m\u001b[0membedding_with_nodes\u001b[0m\u001b[0;34m[\u001b[0m\u001b[0mi\u001b[0m\u001b[0;34m]\u001b[0m \u001b[0;32mfor\u001b[0m \u001b[0mi\u001b[0m \u001b[0;32min\u001b[0m \u001b[0mrange\u001b[0m\u001b[0;34m(\u001b[0m\u001b[0mnum_nodes\u001b[0m\u001b[0;34m)\u001b[0m\u001b[0;34m]\u001b[0m\u001b[0;34m)\u001b[0m\u001b[0;34m.\u001b[0m\u001b[0mT\u001b[0m\u001b[0;34m\u001b[0m\u001b[0m\n\u001b[0m",
      "\u001b[0;32m<ipython-input-40-69e977a2b31c>\u001b[0m in \u001b[0;36m<listcomp>\u001b[0;34m(.0)\u001b[0m\n\u001b[0;32m----> 1\u001b[0;31m \u001b[0membedding\u001b[0m \u001b[0;34m=\u001b[0m \u001b[0mnp\u001b[0m\u001b[0;34m.\u001b[0m\u001b[0marray\u001b[0m\u001b[0;34m(\u001b[0m\u001b[0;34m[\u001b[0m\u001b[0membedding_with_nodes\u001b[0m\u001b[0;34m[\u001b[0m\u001b[0mi\u001b[0m\u001b[0;34m]\u001b[0m \u001b[0;32mfor\u001b[0m \u001b[0mi\u001b[0m \u001b[0;32min\u001b[0m \u001b[0mrange\u001b[0m\u001b[0;34m(\u001b[0m\u001b[0mnum_nodes\u001b[0m\u001b[0;34m)\u001b[0m\u001b[0;34m]\u001b[0m\u001b[0;34m)\u001b[0m\u001b[0;34m.\u001b[0m\u001b[0mT\u001b[0m\u001b[0;34m\u001b[0m\u001b[0m\n\u001b[0m",
      "\u001b[0;31mNameError\u001b[0m: name 'embedding_with_nodes' is not defined"
     ]
    }
   ],
   "source": [
    "embedding = np.array([embedding_with_nodes[i] for i in range(num_nodes)]).T"
   ]
  },
  {
   "cell_type": "code",
   "execution_count": null,
   "metadata": {},
   "outputs": [],
   "source": [
    "plt.figure(1, facecolor='w', figsize=(10, 8))\n",
    "plt.clf()\n",
    "ax = plt.axes([0., 0., 1., 1.])\n",
    "plt.axis('off')"
   ]
  },
  {
   "cell_type": "code",
   "execution_count": 44,
   "metadata": {},
   "outputs": [],
   "source": [
    "def visualize(G=None):\n",
    "    ################ Construct the adjacency matrix and graph\n",
    "    A = np.zeros((len(mynodes), len(mynodes)))\n",
    "    for node in mynodes:\n",
    "        for node_adj,node_edj in zip(node.adj_list, node.edj_list):\n",
    "            A[mynodes[node.nodeid].nodeid, mynodes[node_adj].nodeid] = node_edj\n",
    "    G = nx.from_numpy_matrix(A)\n",
    "    ######################3\n",
    "    plt.figure(1, facecolor='w', figsize=(10, 8))\n",
    "    plt.clf()\n",
    "    ax = plt.axes([0., 0., 1., 1.])\n",
    "    plt.axis('off')\n",
    "\n",
    "    embedding_with_nodes = nx.spring_layout(G)\n",
    "    embedding = np.array([embedding_with_nodes[i] for i in range(num_nodes)]).T\n",
    "    node_labels = np.array([mynodes[i].nodeid for i in range(num_nodes)])\n",
    "    plt.scatter(embedding[0], embedding[1], s=1000, c='r', cmap=plt.cm.spectral)\n",
    "    \n",
    "    for node_label,idx in zip(node_labels, range(num_nodes)):\n",
    "        plt.text(embedding[0,idx], embedding[1,idx], node_label, fontsize=16)\n",
    "    # Plot the edges\n",
    "    start_idx, end_idx = 0, num_nodes #np.where(non_zero)\n",
    "\n",
    "    segments=[]\n",
    "    values = []\n",
    "    edj_colors=[]\n",
    "    edj_labels=[]\n",
    "    w = 0.01\n",
    "    for node in mynodes:\n",
    "        for node_adj,node_edj in zip(node.adj_list, node.edj_list):\n",
    "            #A[mynodes[node.nodeid].nodeid, mynodes[node_adj].nodeid] = node_edj\n",
    "            pos1 = embedding[:,node.nodeid]\n",
    "            pos2 = embedding[:,mynodes[node_adj].nodeid]\n",
    "            pos = (pos1+pos2)/2\n",
    "            \n",
    "            values.append(node_edj)\n",
    "            if node.nodeid>mynodes[node_adj].nodeid:\n",
    "                segments.append([embedding[:,node.nodeid]-w/2, embedding[:,mynodes[node_adj].nodeid]-w/2])\n",
    "                edj_labels.append((pos[0]-w,pos[1]-w, node_edj))\n",
    "                edj_colors.append('r')\n",
    "            else:\n",
    "                edj_labels.append((pos[0]+w,pos[1]+w, node_edj))\n",
    "                segments.append([embedding[:,node.nodeid]+w/2, embedding[:,mynodes[node_adj].nodeid]+w/2])\n",
    "                edj_colors.append('k')\n",
    "    values=np.array(values)/10\n",
    "    lc = LineCollection(segments, zorder=0, color=edj_colors, cmap=plt.cm.hot_r,\\\n",
    "                        norm=plt.Normalize(0, .7 * values.max()))\n",
    "    #lc.set_array(values)\n",
    "    lc.set_linewidths(5 * values)\n",
    "    ax.add_collection(lc)\n",
    "    for edj_label in edj_labels:\n",
    "        plt.text(edj_label[0], edj_label[1], edj_label[2], fontsize=12)\n",
    "    "
   ]
  },
  {
   "cell_type": "code",
   "execution_count": 69,
   "metadata": {},
   "outputs": [
    {
     "name": "stdout",
     "output_type": "stream",
     "text": [
      "0:[1, 2, 7, 9][1, 3, 3, 20]\n",
      "1:[5][3]\n",
      "2:[0, 7, 1][2, 3, 2]\n",
      "3:[1][1]\n",
      "4:[6, 1, 2][5, 4, 4]\n",
      "5:[9][5]\n",
      "6:[1, 7][2, 5]\n",
      "7:[4, 2, 1][4, 3, 1]\n",
      "8:[9, 4][2, 3]\n",
      "9:[5, 8, 2, 1][2, 3, 2, 3]\n"
     ]
    }
   ],
   "source": [
    "for node in mynodes:\n",
    "    print(node)"
   ]
  },
  {
   "cell_type": "code",
   "execution_count": 47,
   "metadata": {},
   "outputs": [],
   "source": [
    "mynodes[3].edj_list.append(1)"
   ]
  },
  {
   "cell_type": "code",
   "execution_count": 68,
   "metadata": {},
   "outputs": [
    {
     "data": {
      "image/png": "[encoded data removed]",
      "text/plain": [
       "<matplotlib.figure.Figure at 0x7fd265fa9860>"
      ]
     },
     "metadata": {},
     "output_type": "display_data"
    }
   ],
   "source": [
    "visualize()"
   ]
  },
  {
   "cell_type": "code",
   "execution_count": 202,
   "metadata": {},
   "outputs": [],
   "source": [
    "# Helper functions...\n",
    "def printtype(elem):\n",
    "    if (type(elem)==np.datetime64):\n",
    "        print('\\''+str(pd.to_datetime(elem).date())+'\\'',end=\" \")\n",
    "    elif (type(elem) in [np.float, np.float64]):\n",
    "        print(\"{0:.4f} \".format(elem), end=\"\")\n",
    "    else:\n",
    "        print(elem, end=\" \")\n",
    "def printval(*args, end=''):\n",
    "    for arg in args:\n",
    "        if (type(arg) in [np.ndarray, list, np.array]):\n",
    "            print('[', end='')\n",
    "            for x in arg:\n",
    "                printval(x, end=',')\n",
    "            print(']',end=end)\n",
    "        else:\n",
    "            printtype(arg)\n",
    "    print(\" \", end=end)"
   ]
  },
  {
   "cell_type": "markdown",
   "metadata": {},
   "source": [
    "# Conventional Updates on Q table..."
   ]
  },
  {
   "cell_type": "code",
   "execution_count": 76,
   "metadata": {},
   "outputs": [],
   "source": [
    "class graphenv:\n",
    "    def __init__(self, nodes_list):\n",
    "        self.state=None\n",
    "        self.mynodes = nodes_list\n",
    "        self.costs = np.ones(len(mynodes))*1000000\n",
    "    def reset(self,initial_nodeid=0):\n",
    "        self.state=mynodes[initial_nodeid]\n",
    "    # action is a step along one of the edges in the edge list\n",
    "    def step(self, action):\n",
    "        if (action>len(self.state.adj_list)):\n",
    "            return -1\n",
    "        new_nodeid =self.state.adj_list[action]\n",
    "        edge_cost = self.state.edj_list[action]\n",
    "        self.state=self.mynodes[new_nodeid]\n",
    "        #cost = edge_cost\n",
    "        reward = edge_cost\n",
    "        return new_nodeid, reward\n",
    "        "
   ]
  },
  {
   "cell_type": "code",
   "execution_count": 77,
   "metadata": {},
   "outputs": [],
   "source": [
    "actions = np.array([1, 2, 3, 1, 4, 1])"
   ]
  },
  {
   "cell_type": "code",
   "execution_count": 78,
   "metadata": {},
   "outputs": [
    {
     "name": "stdout",
     "output_type": "stream",
     "text": [
      "0:[1, 2, 7, 9][1, 3, 3, 20]\n",
      "1:[5][3]\n",
      "2:[0, 7, 1][2, 3, 2]\n",
      "3:[1][1]\n",
      "4:[6, 1, 2][5, 4, 4]\n",
      "5:[9][5]\n",
      "6:[1, 7][2, 5]\n",
      "7:[4, 2, 1][4, 3, 1]\n",
      "8:[9, 4][2, 3]\n",
      "9:[5, 8, 2, 1][2, 3, 2, 3]\n"
     ]
    }
   ],
   "source": [
    "for node in mynodes:\n",
    "    print(node)"
   ]
  },
  {
   "cell_type": "code",
   "execution_count": 208,
   "metadata": {},
   "outputs": [
    {
     "name": "stdout",
     "output_type": "stream",
     "text": [
      "500 [27.0827  ,175.1671  ,430.0815  ,571.2500  ,-1.0000  ,-1.0000  ,-1.0000  ,-1.0000  ,-1.0000  ,-1.0000  ,]\n",
      " \n",
      "1000 [9.1359  ,104.2190  ,430.0815  ,194.4189  ,-1.0000  ,-1.0000  ,-1.0000  ,-1.0000  ,-1.0000  ,-1.0000  ,]\n",
      " \n",
      "1500 [9.0181  ,64.3107  ,247.1708  ,118.1107  ,-1.0000  ,-1.0000  ,-1.0000  ,-1.0000  ,-1.0000  ,-1.0000  ,]\n",
      " \n",
      "2000 [9.0006  ,25.1763  ,111.2127  ,43.2821  ,-1.0000  ,-1.0000  ,-1.0000  ,-1.0000  ,-1.0000  ,-1.0000  ,]\n",
      " \n",
      "2500 [9.0000  ,15.1671  ,35.5436  ,37.4616  ,-1.0000  ,-1.0000  ,-1.0000  ,-1.0000  ,-1.0000  ,-1.0000  ,]\n",
      " \n",
      "3000 [9.0000  ,13.5143  ,19.4494  ,29.8221  ,-1.0000  ,-1.0000  ,-1.0000  ,-1.0000  ,-1.0000  ,-1.0000  ,]\n",
      " \n",
      "3500 [9.0000  ,13.3857  ,17.5870  ,20.5531  ,-1.0000  ,-1.0000  ,-1.0000  ,-1.0000  ,-1.0000  ,-1.0000  ,]\n",
      " \n",
      "4000 [9.0000  ,13.2170  ,14.3570  ,20.1750  ,-1.0000  ,-1.0000  ,-1.0000  ,-1.0000  ,-1.0000  ,-1.0000  ,]\n",
      " \n",
      "4500 [9.0000  ,13.1220  ,12.4195  ,20.0738  ,-1.0000  ,-1.0000  ,-1.0000  ,-1.0000  ,-1.0000  ,-1.0000  ,]\n",
      " \n",
      "5000 [9.0000  ,13.0290  ,12.0560  ,20.0554  ,-1.0000  ,-1.0000  ,-1.0000  ,-1.0000  ,-1.0000  ,-1.0000  ,]\n",
      " \n"
     ]
    }
   ],
   "source": [
    "#########Exploration vs Exploitation\n",
    "lr, e=0.25,0.6\n",
    "############\n",
    "maxval=1000\n",
    "Q = np.ones((num_nodes, num_nodes))*maxval\n",
    "for node in mynodes:\n",
    "    Q[node.nodeid, len(node.edj_list):]=-1\n",
    "    \n",
    "des_stateid=9\n",
    "episodeid=0\n",
    "myenv = graphenv(mynodes)\n",
    "myenv.reset(0)\n",
    "curr_stateid = myenv.state.nodeid\n",
    "new_stateid = curr_stateid\n",
    "\n",
    "while episodeid<5000:\n",
    "    curr_stateid=new_stateid\n",
    "    all_actions = Q[curr_stateid, :]\n",
    "    if (len(mynodes[curr_stateid].edj_list)==0):\n",
    "        myenv.reset(0)\n",
    "        new_stateid = myenv.state.nodeid\n",
    "        #print('reached state ', curr_stateid,'.Restarting episode ', episodeid)\n",
    "        continue\n",
    "    else:\n",
    "        action = np.argmin(all_actions[all_actions>0])\n",
    "    if (np.random.rand()<e):#choose a random edje to follow from the edge list\n",
    "        action=np.random.choice(range(len(mynodes[curr_stateid].edj_list)))\n",
    "    #print('exploring action ', action, ' at state ', curr_stateid)\n",
    "    new_stateid, reward = myenv.step(action)\n",
    "    \n",
    "    if (new_stateid==des_stateid):\n",
    "        Q[curr_stateid, action] = (1-lr)*Q[curr_stateid,action]+lr*(reward+np.min([0]))\n",
    "        episodeid+=1\n",
    "        myenv.reset(0)\n",
    "        if (episodeid%500)==0:\n",
    "            printval(episodeid, Q[mynodes[0].nodeid, :], end='\\n')\n",
    "        #if (episodeid%500)==0:\n",
    "        #    lr=lr/1.1\n",
    "        #    print('lr=',lr)\n",
    "    else:\n",
    "        new_actions = Q[new_stateid, :]\n",
    "        Q[curr_stateid, action] = (1-lr)*Q[curr_stateid,action]+lr*(reward+np.min(new_actions[new_actions>0]))\n",
    "        #if (curr_stateid==0) and (new_stateid==1):\n",
    "        #    print('st:',action, reward, Q[curr_stateid, :], Q[new_stateid, :])\n",
    "    "
   ]
  },
  {
   "cell_type": "code",
   "execution_count": 123,
   "metadata": {},
   "outputs": [
    {
     "data": {
      "text/plain": [
       "1"
      ]
     },
     "execution_count": 123,
     "metadata": {},
     "output_type": "execute_result"
    }
   ],
   "source": [
    "action"
   ]
  },
  {
   "cell_type": "code",
   "execution_count": 89,
   "metadata": {},
   "outputs": [
    {
     "data": {
      "text/plain": [
       "(0, 0)"
      ]
     },
     "execution_count": 89,
     "metadata": {},
     "output_type": "execute_result"
    }
   ],
   "source": [
    "action, myenv.state.nodeid"
   ]
  },
  {
   "cell_type": "code",
   "execution_count": 101,
   "metadata": {},
   "outputs": [
    {
     "name": "stdout",
     "output_type": "stream",
     "text": [
      "0:[1, 2, 7, 9][1, 3, 3, 20]\n",
      "1:[5][3]\n",
      "2:[0, 7, 1][2, 3, 2]\n",
      "3:[1][1]\n",
      "4:[6, 1, 2][5, 4, 4]\n",
      "5:[9][5]\n",
      "6:[1, 7][2, 5]\n",
      "7:[4, 2, 1][4, 3, 1]\n",
      "8:[9, 4][2, 3]\n",
      "9:[5, 8, 2, 1][2, 3, 2, 3]\n"
     ]
    }
   ],
   "source": [
    "for node in mynodes:\n",
    "    print(node)"
   ]
  },
  {
   "cell_type": "code",
   "execution_count": 206,
   "metadata": {},
   "outputs": [
    {
     "name": "stdout",
     "output_type": "stream",
     "text": [
      "[[9.0000  ,14.4201  ,13.9212  ,20.6211  ,-1.0000  ,-1.0000  ,-1.0000  ,-1.0000  ,-1.0000  ,-1.0000  ,], ,[8.0000  ,-1.0000  ,-1.0000  ,-1.0000  ,-1.0000  ,-1.0000  ,-1.0000  ,-1.0000  ,-1.0000  ,-1.0000  ,], ,[11.0000  ,12.0000  ,10.0000  ,-1.0000  ,-1.0000  ,-1.0000  ,-1.0000  ,-1.0000  ,-1.0000  ,-1.0000  ,], ,[1000.0000  ,-1.0000  ,-1.0000  ,-1.0000  ,-1.0000  ,-1.0000  ,-1.0000  ,-1.0000  ,-1.0000  ,-1.0000  ,], ,[18.9310  ,12.0000  ,14.1418  ,-1.0000  ,-1.0000  ,-1.0000  ,-1.0000  ,-1.0000  ,-1.0000  ,-1.0000  ,], ,[5.0000  ,-1.0000  ,-1.0000  ,-1.0000  ,-1.0000  ,-1.0000  ,-1.0000  ,-1.0000  ,-1.0000  ,-1.0000  ,], ,[10.7848  ,127.3756  ,-1.0000  ,-1.0000  ,-1.0000  ,-1.0000  ,-1.0000  ,-1.0000  ,-1.0000  ,-1.0000  ,], ,[16.0000  ,13.0000  ,9.0000  ,-1.0000  ,-1.0000  ,-1.0000  ,-1.0000  ,-1.0000  ,-1.0000  ,-1.0000  ,], ,[1000.0000  ,1000.0000  ,-1.0000  ,-1.0000  ,-1.0000  ,-1.0000  ,-1.0000  ,-1.0000  ,-1.0000  ,-1.0000  ,], ,[9.0000  ,13.0000  ,12.0000  ,20.0000  ,-1.0000  ,-1.0000  ,-1.0000  ,-1.0000  ,-1.0000  ,-1.0000  ,], ,]\n",
      " \n"
     ]
    }
   ],
   "source": [
    "printval(Q, end='\\n')"
   ]
  },
  {
   "cell_type": "markdown",
   "metadata": {},
   "source": [
    "# Tensorflow based Minimization"
   ]
  },
  {
   "cell_type": "code",
   "execution_count": 212,
   "metadata": {},
   "outputs": [],
   "source": [
    "dtype=tf.float32\n",
    "tf.reset_default_graph()\n",
    "with tf.device('/device:CPU:0'):\n",
    "    inputs1 = tf.placeholder(shape=[1,num_nodes],dtype=tf.float32)\n",
    "    #W = tf.Variable(tf.random_uniform([num_nodes,num_nodes],0,0.01))\n",
    "    weights = tf.get_variable('weights', [num_nodes, num_nodes], \\\n",
    "                                  initializer=tf.truncated_normal_initializer(stddev=0.04, dtype=dtype), \\\n",
    "                                  dtype=dtype)\n",
    "    biases = tf.get_variable('biases', [num_nodes], initializer=tf.constant_initializer(0.1), dtype=dtype)\n",
    "    \n",
    "Qout = tf.nn.bias_add(tf.matmul(inputs1, weights), biases)\n",
    "predict = tf.argmin(Qout,1)\n",
    "nextQ = tf.placeholder(shape=[1,num_nodes],dtype=tf.float32)\n",
    "loss = tf.reduce_sum(tf.square(nextQ - Qout))\n",
    "trainer = tf.train.GradientDescentOptimizer(learning_rate=0.1)\n",
    "updateModel = trainer.minimize(loss)\n"
   ]
  },
  {
   "cell_type": "code",
   "execution_count": 249,
   "metadata": {},
   "outputs": [],
   "source": [
    "sess.close()\n",
    "init = tf.global_variables_initializer()\n",
    "# Set learning parameters\n",
    "#y = .99\n",
    "y=1.00\n",
    "e = 0.4\n",
    "num_episodes = 1000\n",
    "\n",
    "#create lists to contain total rewards and steps per episode\n",
    "jList = []\n",
    "rList = []\n",
    "\n",
    "#with tf.Session(config=tf.ConfigProto(allow_soft_placement=False, log_device_placement=True)) as sess:\n",
    "sess = tf.InteractiveSession(config=tf.ConfigProto(allow_soft_placement=False, log_device_placement=True))\n",
    "sess.run(init) "
   ]
  },
  {
   "cell_type": "code",
   "execution_count": 250,
   "metadata": {},
   "outputs": [],
   "source": [
    "maxval=10000"
   ]
  },
  {
   "cell_type": "code",
   "execution_count": 251,
   "metadata": {},
   "outputs": [
    {
     "name": "stdout",
     "output_type": "stream",
     "text": [
      "0 [3  ,]\n",
      "[[0.13555075  ,0.1396447  ,0.08995056  ,0.04552885  ,0.14130038  ,0.08340475  ,0.057020687  ,0.07753787  ,0.064973064  ,0.07774605  ,], ,]\n",
      " \n",
      "100 [1  ,]\n",
      "[[-51.61959  ,-298.39676  ,-270.69962  ,20.939148  ,2000.1117  ,2000.064  ,4000.0188  ,6400.047  ,7839.9844  ,4000.0151  ,], ,]\n",
      " \n",
      "200 [1  ,]\n",
      "[[5.099388  ,-374.9816  ,-354.019  ,20.000061  ,2000.1117  ,2000.064  ,4000.0188  ,6400.047  ,7839.9844  ,4000.0151  ,], ,]\n",
      " \n",
      "300 [2  ,]\n",
      "[[24.66346  ,-284.3155  ,-284.3616  ,20.000061  ,2000.1117  ,2000.064  ,4000.0188  ,6400.047  ,7839.9844  ,4000.0151  ,], ,]\n",
      " \n",
      "400 [2  ,]\n",
      "[[18.266373  ,-222.15103  ,-225.66904  ,20.000061  ,2000.1117  ,2000.064  ,4000.0188  ,6400.047  ,7839.9844  ,4000.0151  ,], ,]\n",
      " \n",
      "500 [1  ,]\n",
      "[[23.510517  ,-143.61673  ,-140.57721  ,20.000061  ,2000.1117  ,2000.064  ,4000.0188  ,6400.047  ,7839.9844  ,4000.0151  ,], ,]\n",
      " \n",
      "600 [1  ,]\n",
      "[[17.88927  ,-59.481873  ,-55.500427  ,20.000061  ,2000.1117  ,2000.064  ,4000.0188  ,6400.047  ,7839.9844  ,4000.0151  ,], ,]\n",
      " \n",
      "700 [2  ,]\n",
      "[[20.711273  ,17.519104  ,13.607208  ,20.000061  ,2000.1117  ,2000.064  ,4000.0188  ,6400.047  ,7839.9844  ,4000.0151  ,], ,]\n",
      " \n",
      "800 [0  ,]\n",
      "[[9.002894  ,12.775391  ,11.869263  ,20.000061  ,2000.1117  ,2000.064  ,4000.0188  ,6400.047  ,7839.9844  ,4000.0151  ,], ,]\n",
      " \n",
      "900 [0  ,]\n",
      "[[9.002898  ,13.116333  ,12.108551  ,20.000061  ,2000.1117  ,2000.064  ,4000.0188  ,6400.047  ,7839.9844  ,4000.0151  ,], ,]\n",
      " \n",
      "Percent of succesful episodes: 22.346%\n"
     ]
    }
   ],
   "source": [
    "for i in range(num_episodes):\n",
    "    #Reset environment and get first new observation\n",
    "    if (i%100)==0:\n",
    "        a,allQ = sess.run([predict,Qout],feed_dict={inputs1:np.identity(num_nodes)[0:1]})\n",
    "        printval(i, a, allQ, end='\\n')\n",
    "    myenv.reset(0)\n",
    "    s = myenv.state.nodeid\n",
    "    s1 = s\n",
    "\n",
    "    rAll = 0\n",
    "    d = False\n",
    "    j = 0\n",
    "    #The Q-Network\n",
    "    while j < 99:\n",
    "        j+=1\n",
    "        #Choose an action by greedily (with e chance of random action) from the Q-network\n",
    "        a,allQ = sess.run([predict,Qout],feed_dict={inputs1:np.identity(num_nodes)[s:s+1]})\n",
    "        #if np.random.rand(1) < e:\n",
    "        #    a[0] = env.action_space.sample()\n",
    "        if (np.random.rand()<e):#choose a random edje to follow from the edge list\n",
    "            a[0] = np.random.choice(range(len(mynodes[s].edj_list)))\n",
    "        if (a[0]>=len(mynodes[s].edj_list)): #invalid state...\n",
    "            targetQ[0,a[0]]=maxval\n",
    "        else:\n",
    "            #Get new state and reward from environment\n",
    "            s1,r = myenv.step(a[0])\n",
    "            #Obtain the Q' values by feeding the new state through our network\n",
    "            Q1 = sess.run(Qout,feed_dict={inputs1:np.identity(num_nodes)[s1:s1+1]})\n",
    "            #Obtain maxQ' and set our target value for chosen action.\n",
    "            minQ1 = np.min(Q1)\n",
    "            targetQ = allQ\n",
    "            if (s1==des_stateid):\n",
    "                minQ1=0\n",
    "            targetQ[0,a[0]] = r + y*minQ1\n",
    "        #Train our network using target and predicted Q values\n",
    "        _,weights_val = sess.run([updateModel,weights],\\\n",
    "                                 feed_dict={inputs1:np.identity(num_nodes)[s:s+1],nextQ:targetQ})\n",
    "        rAll += r\n",
    "        s = s1\n",
    "        if s1 == des_stateid:\n",
    "            #Reduce chance of random action as we train the model.\n",
    "            #e = 1./((i/50) + 10)\n",
    "            break\n",
    "    jList.append(j)\n",
    "    rList.append(rAll)\n",
    "\n",
    "print(\"Percent of succesful episodes: \" + str(sum(rList)/num_episodes) + \"%\")"
   ]
  },
  {
   "cell_type": "code",
   "execution_count": 236,
   "metadata": {},
   "outputs": [
    {
     "data": {
      "text/plain": [
       "array([[ 2.44046650e+01, -3.69523895e+02, -2.91574585e+02,\n",
       "        -5.73036316e+02, -9.88318026e-03, -3.79128382e-02,\n",
       "         3.30982022e-02, -1.39387511e-02, -5.53704565e-03,\n",
       "        -3.11288200e-02],\n",
       "       [ 2.59269371e+01,  3.19951172e+03,  2.00011304e+03,\n",
       "         3.06274462e-02,  1.35999622e+03,  2.95931006e+03,\n",
       "         2.66558813e+03,  7.62871793e-03,  3.13557764e+03,\n",
       "         2.17597656e+03],\n",
       "       [ 2.34345512e+01, -3.69026306e+02, -2.90604584e+02,\n",
       "         1.85212411e-03, -9.85652860e-03, -5.73601946e-02,\n",
       "         2.85889469e-02, -2.53741816e-02,  5.60359769e-02,\n",
       "         1.57677401e-02],\n",
       "       [ 7.14757442e-02,  1.78955533e-02, -2.97714863e-02,\n",
       "        -1.26766739e-02, -5.95616959e-02, -1.36037478e-02,\n",
       "        -3.18255536e-02,  1.47862323e-02,  1.50573906e-02,\n",
       "        -4.35347259e-02],\n",
       "       [ 2.78882294e+01, -3.66051422e+02, -2.91072144e+02,\n",
       "         2.34537553e-02, -6.25500530e-02,  6.11704476e-02,\n",
       "         2.50597540e-02, -1.62459060e-03,  6.27861395e-02,\n",
       "        -3.38202082e-02],\n",
       "       [ 2.54445324e+01,  4.42218147e-02,  6.00451082e-02,\n",
       "         1.99989990e+03,  6.39999146e+02,  1.39264111e+03,\n",
       "         1.25441272e+03,  3.19996631e+03,  1.47551660e+03,\n",
       "         1.02397266e+03],\n",
       "       [ 2.54047184e+01, -3.67068970e+02, -6.79673776e-02,\n",
       "        -2.80990433e-02, -3.59477587e-02, -8.62679724e-03,\n",
       "         5.48041053e-02, -6.16684482e-02, -3.12543176e-02,\n",
       "        -4.47684266e-02],\n",
       "       [ 2.64243336e+01, -3.69523895e+02, -2.91604614e+02,\n",
       "         2.23097801e-02,  4.65371320e-03, -1.17988558e-02,\n",
       "        -2.03555506e-02,  6.69531971e-02,  6.39980519e-03,\n",
       "         1.98461041e-02],\n",
       "       [ 2.24446907e+01, -3.68030182e+02, -4.77830432e-02,\n",
       "        -3.17801870e-02,  6.54780269e-02, -4.34728414e-02,\n",
       "        -2.49641575e-03,  4.81568389e-02,  3.04974485e-02,\n",
       "        -1.54276211e-02],\n",
       "       [ 2.49272957e+01, -3.70503479e+02, -2.93072205e+02,\n",
       "        -5.87076416e+02,  6.48573637e-02,  4.45181940e-04,\n",
       "         4.68508080e-02, -2.67283013e-03,  7.71964854e-03,\n",
       "         5.60379811e-02]], dtype=float32)"
      ]
     },
     "execution_count": 236,
     "metadata": {},
     "output_type": "execute_result"
    }
   ],
   "source": [
    "weights_val"
   ]
  },
  {
   "cell_type": "code",
   "execution_count": 221,
   "metadata": {},
   "outputs": [
    {
     "data": {
      "text/plain": [
       "-1"
      ]
     },
     "execution_count": 221,
     "metadata": {},
     "output_type": "execute_result"
    }
   ],
   "source": [
    "myenv.step(a[0])"
   ]
  },
  {
   "cell_type": "code",
   "execution_count": 216,
   "metadata": {},
   "outputs": [],
   "source": [
    "sess.close()"
   ]
  },
  {
   "cell_type": "code",
   "execution_count": 15,
   "metadata": {},
   "outputs": [],
   "source": [
    "A = np.zeros((len(mynodes), len(mynodes)))\n",
    "for node in mynodes:\n",
    "    for node_adj,node_edj in zip(node.adj_list, node.edj_list):\n",
    "        A[mynodes[node.nodeid].nodeid, mynodes[node_adj].nodeid] = node_edj"
   ]
  },
  {
   "cell_type": "code",
   "execution_count": 16,
   "metadata": {},
   "outputs": [
    {
     "data": {
      "text/plain": [
       "array([[0., 0., 0., 0., 0., 0., 0., 0., 1., 0.],\n",
       "       [0., 0., 0., 0., 0., 0., 1., 0., 0., 0.],\n",
       "       [0., 0., 0., 0., 0., 0., 0., 0., 0., 1.],\n",
       "       [0., 0., 0., 0., 0., 0., 0., 0., 0., 0.],\n",
       "       [0., 0., 0., 0., 0., 0., 1., 0., 0., 0.],\n",
       "       [0., 1., 1., 0., 0., 0., 0., 1., 0., 0.],\n",
       "       [0., 0., 0., 1., 1., 0., 0., 0., 1., 1.],\n",
       "       [0., 0., 0., 0., 0., 0., 0., 0., 0., 0.],\n",
       "       [0., 1., 1., 1., 0., 0., 1., 0., 0., 0.],\n",
       "       [0., 0., 0., 0., 0., 0., 0., 0., 0., 0.]])"
      ]
     },
     "execution_count": 16,
     "metadata": {},
     "output_type": "execute_result"
    }
   ],
   "source": [
    "A"
   ]
  },
  {
   "cell_type": "code",
   "execution_count": null,
   "metadata": {},
   "outputs": [],
   "source": [
    "A = np.array([(0, 0.3, 0.4, 0.7),\n",
    "               (0.3, 0, 0.9, 0.2),\n",
    "               (0.4, 0.9, 0, 0.1),\n",
    "               (0.7, 0.2, 0.1, 0)\n",
    "               ])*10"
   ]
  },
  {
   "cell_type": "code",
   "execution_count": 20,
   "metadata": {},
   "outputs": [
    {
     "data": {
      "image/png": "[encoded data removed]",
      "text/plain": [
       "<matplotlib.figure.Figure at 0x7fe4027849b0>"
      ]
     },
     "metadata": {},
     "output_type": "display_data"
    }
   ],
   "source": [
    "G = nx.from_numpy_matrix(A)\n",
    "G = nx.relabel_nodes(G, dict(zip(range(len(G.nodes())),[mynode.nodeid for mynode in mynodes])))    \n",
    "\n",
    "nx.draw(G, with_labels=True, pos=nx.spring_layout(G))"
   ]
  },
  {
   "cell_type": "code",
   "execution_count": 6,
   "metadata": {},
   "outputs": [
    {
     "ename": "NameError",
     "evalue": "name 'nx' is not defined",
     "output_type": "error",
     "traceback": [
      "\u001b[0;31m---------------------------------------------------------------------------\u001b[0m",
      "\u001b[0;31mNameError\u001b[0m                                 Traceback (most recent call last)",
      "\u001b[0;32m<ipython-input-6-b4374cd92f83>\u001b[0m in \u001b[0;36m<module>\u001b[0;34m()\u001b[0m\n\u001b[0;32m----> 1\u001b[0;31m \u001b[0mpos\u001b[0m \u001b[0;34m=\u001b[0m \u001b[0mnx\u001b[0m\u001b[0;34m.\u001b[0m\u001b[0mspring_layout\u001b[0m\u001b[0;34m(\u001b[0m\u001b[0mG\u001b[0m\u001b[0;34m)\u001b[0m\u001b[0;34m\u001b[0m\u001b[0m\n\u001b[0m\u001b[1;32m      2\u001b[0m \u001b[0;31m#pos = nx.circular_layout(G)\u001b[0m\u001b[0;34m\u001b[0m\u001b[0;34m\u001b[0m\u001b[0m\n",
      "\u001b[0;31mNameError\u001b[0m: name 'nx' is not defined"
     ]
    }
   ],
   "source": [
    "pos = nx.spring_layout(G)\n",
    "#pos = nx.circular_layout(G)"
   ]
  },
  {
   "cell_type": "code",
   "execution_count": 53,
   "metadata": {},
   "outputs": [
    {
     "data": {
      "text/plain": [
       "{0: array([1.00000000e+00, 2.66236709e-08]),\n",
       " 1: array([0.809017  , 0.58778527]),\n",
       " 2: array([0.30901698, 0.95105656]),\n",
       " 3: array([-0.30901702,  0.9510565 ]),\n",
       " 4: array([-0.80901705,  0.58778521]),\n",
       " 5: array([-9.99999982e-01, -6.07991049e-08]),\n",
       " 6: array([-0.80901693, -0.58778533]),\n",
       " 7: array([-0.30901708, -0.95105645]),\n",
       " 8: array([ 0.30901713, -0.95105645]),\n",
       " 9: array([ 0.80901694, -0.58778527])}"
      ]
     },
     "execution_count": 53,
     "metadata": {},
     "output_type": "execute_result"
    }
   ],
   "source": [
    "pos"
   ]
  }
 ],
 "metadata": {
  "kernelspec": {
   "display_name": "tf16_env",
   "language": "python",
   "name": "tf16_env"
  },
  "language_info": {
   "codemirror_mode": {
    "name": "ipython",
    "version": 3
   },
   "file_extension": ".py",
   "mimetype": "text/x-python",
   "name": "python",
   "nbconvert_exporter": "python",
   "pygments_lexer": "ipython3",
   "version": "3.4.5"
  }
 },
 "nbformat": 4,
 "nbformat_minor": 2
}
